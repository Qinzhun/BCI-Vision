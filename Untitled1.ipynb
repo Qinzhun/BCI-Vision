{
 "cells": [
  {
   "cell_type": "code",
   "execution_count": 21,
   "metadata": {},
   "outputs": [],
   "source": [
    "import numpy as np\n",
    "from struct_methods import *\n",
    "import io\n",
    "from scipy.signal import butter, lfilter\n",
    "Fs = 1000\n",
    "filt_n = 4\n",
    "FrequencyPoint=[8, 30]\n",
    "timepoint=[500, 4000]\n",
    "N = 3\n",
    "channel = [1, 3, 4, 5, 6, 7, 8, 9, 10, 11, 12, 13, 14, 15, 16]\n",
    "channels = [i-1 for i in channel]\n",
    "Wn = [FrequencyPoint[0]/(Fs/2), FrequencyPoint[1]/(Fs/2)]\n",
    "filter_b, filter_a = butter(filt_n, Wn, btype='band')"
   ]
  },
  {
   "cell_type": "code",
   "execution_count": 25,
   "metadata": {},
   "outputs": [],
   "source": [
    "b = np.arange(256).reshape(16,16)\n",
    "data = b\n",
    "dataTofilter = data[1:3, :]\n",
    "dataFiltered = lfilter(filter_b, filter_a, dataTofilter, axis=1)"
   ]
  },
  {
   "cell_type": "code",
   "execution_count": 26,
   "metadata": {},
   "outputs": [
    {
     "name": "stdout",
     "output_type": "stream",
     "text": [
      "[[3.06668922e-04 2.65735001e-03 1.15537360e-02 3.44041722e-02\n",
      "  8.04292280e-02 1.59307765e-01 2.80011521e-01 4.49852274e-01\n",
      "  6.73754899e-01 9.53759612e-01 1.28874764e+00 1.67437680e+00\n",
      "  2.10320674e+00 2.56498876e+00 3.04709110e+00 3.53502846e+00]\n",
      " [6.13337843e-04 5.29553320e-03 2.29234187e-02 6.79136860e-02\n",
      "  1.57869453e-01 3.10786513e-01 5.42726603e-01 8.65988416e-01\n",
      "  1.28778516e+00 1.80941769e+00 2.42591513e+00 3.12610047e+00\n",
      "  3.89302761e+00 4.70472785e+00 5.53519885e+00 6.35556683e+00]]\n"
     ]
    }
   ],
   "source": [
    "print(dataFiltered)"
   ]
  },
  {
   "cell_type": "code",
   "execution_count": 27,
   "metadata": {},
   "outputs": [
    {
     "data": {
      "text/plain": [
       "array([[  0,  16,  32,  48,  64,  80,  96, 112, 128, 144, 160, 176, 192,\n",
       "        208, 224, 240],\n",
       "       [  1,  17,  33,  49,  65,  81,  97, 113, 129, 145, 161, 177, 193,\n",
       "        209, 225, 241],\n",
       "       [  2,  18,  34,  50,  66,  82,  98, 114, 130, 146, 162, 178, 194,\n",
       "        210, 226, 242],\n",
       "       [  3,  19,  35,  51,  67,  83,  99, 115, 131, 147, 163, 179, 195,\n",
       "        211, 227, 243],\n",
       "       [  4,  20,  36,  52,  68,  84, 100, 116, 132, 148, 164, 180, 196,\n",
       "        212, 228, 244],\n",
       "       [  5,  21,  37,  53,  69,  85, 101, 117, 133, 149, 165, 181, 197,\n",
       "        213, 229, 245],\n",
       "       [  6,  22,  38,  54,  70,  86, 102, 118, 134, 150, 166, 182, 198,\n",
       "        214, 230, 246],\n",
       "       [  7,  23,  39,  55,  71,  87, 103, 119, 135, 151, 167, 183, 199,\n",
       "        215, 231, 247],\n",
       "       [  8,  24,  40,  56,  72,  88, 104, 120, 136, 152, 168, 184, 200,\n",
       "        216, 232, 248],\n",
       "       [  9,  25,  41,  57,  73,  89, 105, 121, 137, 153, 169, 185, 201,\n",
       "        217, 233, 249],\n",
       "       [ 10,  26,  42,  58,  74,  90, 106, 122, 138, 154, 170, 186, 202,\n",
       "        218, 234, 250],\n",
       "       [ 11,  27,  43,  59,  75,  91, 107, 123, 139, 155, 171, 187, 203,\n",
       "        219, 235, 251],\n",
       "       [ 12,  28,  44,  60,  76,  92, 108, 124, 140, 156, 172, 188, 204,\n",
       "        220, 236, 252],\n",
       "       [ 13,  29,  45,  61,  77,  93, 109, 125, 141, 157, 173, 189, 205,\n",
       "        221, 237, 253],\n",
       "       [ 14,  30,  46,  62,  78,  94, 110, 126, 142, 158, 174, 190, 206,\n",
       "        222, 238, 254],\n",
       "       [ 15,  31,  47,  63,  79,  95, 111, 127, 143, 159, 175, 191, 207,\n",
       "        223, 239, 255]])"
      ]
     },
     "execution_count": 27,
     "metadata": {},
     "output_type": "execute_result"
    }
   ],
   "source": [
    "b.T"
   ]
  },
  {
   "cell_type": "code",
   "execution_count": 5,
   "metadata": {},
   "outputs": [
    {
     "data": {
      "text/plain": [
       "array([[ 3,  4,  5],\n",
       "       [ 9, 10, 11]])"
      ]
     },
     "execution_count": 5,
     "metadata": {},
     "output_type": "execute_result"
    }
   ],
   "source": []
  },
  {
   "cell_type": "code",
   "execution_count": 6,
   "metadata": {},
   "outputs": [],
   "source": []
  },
  {
   "cell_type": "code",
   "execution_count": 7,
   "metadata": {},
   "outputs": [
    {
     "name": "stdout",
     "output_type": "stream",
     "text": [
      "[1, 3, 4, 5, 6, 7, 8, 9, 10, 11, 12, 13, 14, 15, 16]\n"
     ]
    }
   ],
   "source": []
  },
  {
   "cell_type": "code",
   "execution_count": 8,
   "metadata": {},
   "outputs": [
    {
     "data": {
      "text/plain": [
       "array([[ 0,  3,  6,  9],\n",
       "       [ 1,  4,  7, 10],\n",
       "       [ 2,  5,  8, 11]])"
      ]
     },
     "execution_count": 8,
     "metadata": {},
     "output_type": "execute_result"
    }
   ],
   "source": []
  },
  {
   "cell_type": "code",
   "execution_count": null,
   "metadata": {},
   "outputs": [],
   "source": []
  }
 ],
 "metadata": {
  "kernelspec": {
   "display_name": "Python 3",
   "language": "python",
   "name": "python3"
  },
  "language_info": {
   "codemirror_mode": {
    "name": "ipython",
    "version": 3
   },
   "file_extension": ".py",
   "mimetype": "text/x-python",
   "name": "python",
   "nbconvert_exporter": "python",
   "pygments_lexer": "ipython3",
   "version": "3.6.5"
  }
 },
 "nbformat": 4,
 "nbformat_minor": 2
}
