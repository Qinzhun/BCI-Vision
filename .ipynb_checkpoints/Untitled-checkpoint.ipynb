{
 "cells": [
  {
   "cell_type": "code",
   "execution_count": 1,
   "metadata": {},
   "outputs": [],
   "source": [
    "from struct_methods import *\n",
    "import io\n",
    "import numpy"
   ]
  },
  {
   "cell_type": "code",
   "execution_count": 2,
   "metadata": {},
   "outputs": [
    {
     "ename": "FileNotFoundError",
     "evalue": "[Errno 2] No such file or directory: '/JAGA_data/online.dat'",
     "output_type": "error",
     "traceback": [
      "\u001b[1;31m---------------------------------------------------------------------------\u001b[0m",
      "\u001b[1;31mFileNotFoundError\u001b[0m                         Traceback (most recent call last)",
      "\u001b[1;32m<ipython-input-2-f324d4b73181>\u001b[0m in \u001b[0;36m<module>\u001b[1;34m()\u001b[0m\n\u001b[1;32m----> 1\u001b[1;33m \u001b[0mf\u001b[0m \u001b[1;33m=\u001b[0m \u001b[0mopen\u001b[0m\u001b[1;33m(\u001b[0m\u001b[1;34m'/JAGA_data/online.dat'\u001b[0m\u001b[1;33m,\u001b[0m \u001b[1;34m\"rb\"\u001b[0m\u001b[1;33m)\u001b[0m\u001b[1;33m\u001b[0m\u001b[0m\n\u001b[0m\u001b[0;32m      2\u001b[0m \u001b[0msamples_per_packet\u001b[0m \u001b[1;33m=\u001b[0m \u001b[1;36m43\u001b[0m\u001b[1;33m\u001b[0m\u001b[0m\n\u001b[0;32m      3\u001b[0m \u001b[0mchannels\u001b[0m \u001b[1;33m=\u001b[0m \u001b[1;36m16\u001b[0m\u001b[1;33m\u001b[0m\u001b[0m\n\u001b[0;32m      4\u001b[0m \u001b[0mchannels\u001b[0m\u001b[1;33m\u001b[0m\u001b[0m\n",
      "\u001b[1;31mFileNotFoundError\u001b[0m: [Errno 2] No such file or directory: '/JAGA_data/online.dat'"
     ]
    }
   ],
   "source": [
    "f = open('/JAGA_data/online.dat', \"rb\")\n",
    "samples_per_packet = 43\n",
    "channels = 16\n",
    "channels"
   ]
  },
  {
   "cell_type": "code",
   "execution_count": 153,
   "metadata": {},
   "outputs": [],
   "source": [
    "def read_Data(buffer, num):\n",
    "    finalPacketMatrics = numpy.zeros(shape=(43*num,16))\n",
    "    for n in range(num):\n",
    "        # trigger = read_char(buffer)\n",
    "        header = []\n",
    "        for i in range(6):\n",
    "            header.append(read_uint16le(buffer))\n",
    "        \"\"\"Read all the data samples from the packet\"\"\"\n",
    "        all_samples = []\n",
    "        for i in range(samples_per_packet):\n",
    "            samples = []\n",
    "            for j in range(channels):\n",
    "                sample = read_uint16le(buffer)\n",
    "                samples.append(sample)\n",
    "            all_samples.append(samples)\n",
    "        per_samples = numpy.array(all_samples)\n",
    "        currentPacketMatrics = per_samples.reshape((samples_per_packet,channels))\n",
    "        finalPacketMatrics[43*n:43*n+43, :] = currentPacketMatrics\n",
    "    return trigger, header, finalPacketMatrics"
   ]
  },
  {
   "cell_type": "code",
   "execution_count": 154,
   "metadata": {},
   "outputs": [],
   "source": [
    "trigger ,head, data = read_Data(f, 1)"
   ]
  },
  {
   "cell_type": "code",
   "execution_count": 155,
   "metadata": {},
   "outputs": [
    {
     "name": "stdout",
     "output_type": "stream",
     "text": [
      "[4099, 43, 12288, 1000, 36946, 30]\n"
     ]
    }
   ],
   "source": [
    "print(head)"
   ]
  },
  {
   "cell_type": "code",
   "execution_count": 156,
   "metadata": {},
   "outputs": [
    {
     "data": {
      "text/plain": [
       "(43, 16)"
      ]
     },
     "execution_count": 156,
     "metadata": {},
     "output_type": "execute_result"
    }
   ],
   "source": [
    "data.shape"
   ]
  },
  {
   "cell_type": "code",
   "execution_count": 157,
   "metadata": {},
   "outputs": [
    {
     "data": {
      "text/plain": [
       "<function BufferedReader.close>"
      ]
     },
     "execution_count": 157,
     "metadata": {},
     "output_type": "execute_result"
    }
   ],
   "source": [
    "f.close"
   ]
  },
  {
   "cell_type": "code",
   "execution_count": 158,
   "metadata": {},
   "outputs": [
    {
     "name": "stdout",
     "output_type": "stream",
     "text": [
      "[[ 3740. 12399.  4684. 39624.  3641. 12404.  4182. 14202. 15674. 16194.\n",
      "   3773.  5117.  9799. 32747. 23841.  4102.]\n",
      " [ 8214.  2886.  6112. 30014. 11152.  3955. 11155.  5056.  6457.  6714.\n",
      "  11031.  5735.  5206. 22366. 19212. 13568.]\n",
      " [18091.  6962. 15301. 20460. 21107. 10203. 20572.  9829. 11474. 10239.\n",
      "  20707. 15348. 13604. 15575. 27695. 25036.]\n",
      " [28053. 16234. 24671. 22193. 30798. 19310. 29743. 19623. 20716. 19052.\n",
      "  30205. 25804. 23000. 22376. 37383. 36206.]\n",
      " [39077. 26491. 35285. 29756. 41711. 29688. 40134. 30515. 31490. 29631.\n",
      "  40768. 36584. 33663. 31373. 48183. 48366.]\n",
      " [49908. 36839. 45603. 29941. 52203. 40033. 50164. 41593. 42164. 40058.\n",
      "  51115. 47684. 44150. 35781. 59144. 60043.]\n",
      " [60984. 47415. 56519. 28755. 63159. 50900. 60745. 53197. 53549. 51290.\n",
      "  61569. 59161. 55449. 39586. 65169. 65164.]\n",
      " [65139. 57988. 61066. 20540. 64561. 52952. 63589. 53666. 57485. 50650.\n",
      "  65171. 58874. 53936. 31278. 65177. 65171.]\n",
      " [59499. 65142. 60639. 22271. 57708. 55588. 59041. 55279. 58683. 47872.\n",
      "  65163. 53407. 48951. 27084. 59213. 57815.]\n",
      " [65123. 65128. 65131. 31170. 64386. 64007. 65148. 64632. 65152. 56247.\n",
      "  64710. 61111. 56904. 34664. 58842. 64916.]\n",
      " [65126. 64847. 65136. 41104. 65160. 65153. 65139. 65151. 65150. 65162.\n",
      "  61389. 65158. 65160. 43801. 60596. 65148.]\n",
      " [62027. 56206. 60636. 51335. 64840. 64815. 64992. 65153. 62267. 65158.\n",
      "  61441. 65162. 65151. 53340. 59386. 60997.]\n",
      " [56889. 54497. 57150. 61663. 57781. 56963. 58400. 57547. 56537. 63989.\n",
      "  60051. 60769. 63203. 62970. 51838. 58087.]\n",
      " [52449. 54540. 53196. 65153. 52287. 51297. 53242. 51231. 52073. 55218.\n",
      "  54243. 52735. 54134. 65165. 41140. 53210.]\n",
      " [42885. 52927. 43806. 59791. 42988. 41484. 44025. 41839. 42678. 45152.\n",
      "  44743. 43139. 43675. 59378. 29859. 43047.]\n",
      " [32573. 50347. 33608. 52633. 33019. 30982. 34123. 31868. 32560. 34776.\n",
      "  34587. 33159. 32868. 49418. 18430. 32060.]\n",
      " [22185. 48439. 23346. 46169. 22785. 20880. 24071. 22081. 23148. 24300.\n",
      "  24199. 22971. 21957. 40118. 11475. 21284.]\n",
      " [18488. 42008. 27262. 52655. 22154. 26088. 23025. 27465. 29372. 28051.\n",
      "  17946. 24193. 25238. 45614. 19611. 25261.]\n",
      " [20363. 32599. 23746. 56714. 17155. 30920. 17907. 31885. 33914. 33278.\n",
      "  16681. 23028. 28326. 50506. 27508. 18156.]\n",
      " [12096. 22481. 14617. 49069.  8583. 22491.  9399. 23832. 25737. 25350.\n",
      "   8437. 14588. 19519. 42251. 23166.  8238.]\n",
      " [ 3779. 12424.  5031. 39852.  3785. 12629.  4261. 14437. 16048. 15802.\n",
      "   3960.  5439.  9649. 32242. 24747.  3654.]\n",
      " [ 8706.  2901.  6045. 30231. 11535.  4041. 11438.  5313.  6669.  6491.\n",
      "  11465.  5829.  5449. 21841. 20315. 12968.]\n",
      " [18513.  6867. 15085. 20770. 21421. 10057. 20802. 10077. 11136. 10706.\n",
      "  21069. 15308. 13848. 15161. 28756. 24287.]\n",
      " [28531. 16219. 24537. 22819. 31260. 19208. 30106. 19925. 20399. 19664.\n",
      "  30683. 25821. 23288. 22023. 38512. 35545.]\n",
      " [39488. 26371. 35008. 29997. 42038. 29474. 40377. 30721. 31068. 30175.\n",
      "  41172. 36607. 33948. 31002. 49338. 47728.]\n",
      " [50421. 36816. 45426. 30487. 52624. 39921. 50499. 41923. 41817. 40644.\n",
      "  51564. 47753. 44481. 35689. 60264. 59417.]\n",
      " [61528. 47392. 56331. 28295. 63529. 50746. 61041. 53493. 53194. 51892.\n",
      "  62072. 59127. 55773. 39810. 65180. 65160.]\n",
      " [65093. 57956. 60438. 20160. 64340. 53060. 63297. 54039. 56895. 51482.\n",
      "  65168. 58331. 54601. 31565. 65141. 65155.]\n",
      " [58549. 65148. 59779. 22954. 57144. 54663. 58299. 54179. 58255. 47692.\n",
      "  65143. 52570. 49053. 26561. 58718. 58102.]\n",
      " [65103. 65114. 65118. 32069. 63830. 63093. 65008. 63135. 65155. 55955.\n",
      "  65171. 60278. 56923. 34028. 59741. 65161.]\n",
      " [65123. 64767. 65141. 42028. 65159. 65157. 65146. 65134. 65140. 65158.\n",
      "  62913. 65158. 65164. 43142. 61015. 65159.]\n",
      " [62676. 56132. 61308. 52271. 65088. 65146. 65145. 65152. 62581. 65151.\n",
      "  59916. 65151. 65143. 52660. 59699. 60554.]\n",
      " [56744. 54537. 56952. 62583. 58032. 57434. 58666. 58324. 56477. 64244.\n",
      "  59127. 61490. 63176. 62291. 52113. 57720.]\n",
      " [51982. 54528. 52822. 65155. 52055. 51045. 52926. 51232. 51776. 55464.\n",
      "  53473. 53227. 54097. 65166. 41360. 52802.]\n",
      " [42394. 52929. 43409. 60195. 42704. 41132. 43637. 41701. 42342. 45390.\n",
      "  43975. 43571. 43633. 58892. 30077. 42618.]\n",
      " [32071. 50315. 33201. 52745. 32718. 30596. 33709. 31678. 32226. 35010.\n",
      "  33831. 33559. 32813. 48935. 18632. 31634.]\n",
      " [21746. 48409. 22980. 45798. 22504. 20582. 23649. 21951. 22905. 24533.\n",
      "  23458. 23340. 21902. 39940. 11761. 20868.]\n",
      " [18512. 41859. 26906. 52020. 21224. 25956. 22589. 27486. 29225. 28247.\n",
      "  17536. 24192. 25222. 45687. 19918. 24710.]\n",
      " [20565. 32413. 23120. 56172. 18063. 30629. 18205. 31672. 33676. 33386.\n",
      "  17141. 22853. 28329. 50889. 27562. 17628.]\n",
      " [12278. 22291. 13999. 48529.  9761. 22164.  9759. 23566. 25469. 25419.\n",
      "   8918. 14413. 19521. 42713. 22618.  7727.]\n",
      " [ 3691. 12241.  4463. 39320.  3496. 12306.  4173. 14174. 15782. 15864.\n",
      "   3644.  5270.  9648. 32718. 23289.  4037.]\n",
      " [ 8274.  2788.  6315. 29706. 10529.  4174. 11137.  5166.  6730.  6601.\n",
      "  10900.  5852.  5428. 22325. 18756. 13543.]\n",
      " [18045.  7022. 15443. 20268. 20334. 10650. 20469. 10310. 12086. 11029.\n",
      "  20465. 15359. 13816. 15847. 27222. 24900.]]\n"
     ]
    }
   ],
   "source": [
    "print(data)"
   ]
  },
  {
   "cell_type": "code",
   "execution_count": 165,
   "metadata": {},
   "outputs": [
    {
     "data": {
      "text/plain": [
       "array([[0., 0., 0., ..., 0., 0., 0.],\n",
       "       [0., 0., 0., ..., 0., 0., 0.],\n",
       "       [0., 0., 0., ..., 0., 0., 0.],\n",
       "       ...,\n",
       "       [0., 0., 0., ..., 0., 0., 0.],\n",
       "       [0., 0., 0., ..., 0., 0., 0.],\n",
       "       [0., 0., 0., ..., 0., 0., 0.]])"
      ]
     },
     "execution_count": 165,
     "metadata": {},
     "output_type": "execute_result"
    }
   ],
   "source": [
    "numpy.zeros(shape=(4300,16))"
   ]
  },
  {
   "cell_type": "code",
   "execution_count": 203,
   "metadata": {},
   "outputs": [],
   "source": [
    "FrequencyPoint=[8, 30]\n",
    "timepoint=[500, 4000]"
   ]
  },
  {
   "cell_type": "code",
   "execution_count": 169,
   "metadata": {},
   "outputs": [
    {
     "data": {
      "text/plain": [
       "30"
      ]
     },
     "execution_count": 169,
     "metadata": {},
     "output_type": "execute_result"
    }
   ],
   "source": [
    "FrequencyPoint[1]"
   ]
  },
  {
   "cell_type": "code",
   "execution_count": 198,
   "metadata": {},
   "outputs": [],
   "source": [
    "list= [i for i in range(3,16)]"
   ]
  },
  {
   "cell_type": "code",
   "execution_count": 199,
   "metadata": {},
   "outputs": [
    {
     "data": {
      "text/plain": [
       "[3, 4, 5, 6, 7, 8, 9, 10, 11, 12, 13, 14, 15]"
      ]
     },
     "execution_count": 199,
     "metadata": {},
     "output_type": "execute_result"
    }
   ],
   "source": [
    "list"
   ]
  },
  {
   "cell_type": "code",
   "execution_count": 178,
   "metadata": {},
   "outputs": [
    {
     "name": "stdout",
     "output_type": "stream",
     "text": [
      "[1, range(0, 16)]\n"
     ]
    }
   ],
   "source": [
    "print(list)"
   ]
  },
  {
   "cell_type": "code",
   "execution_count": 201,
   "metadata": {},
   "outputs": [],
   "source": [
    "channels = [i for i in range(3,16)]\n",
    "channels.append(1)"
   ]
  },
  {
   "cell_type": "code",
   "execution_count": 202,
   "metadata": {},
   "outputs": [
    {
     "name": "stdout",
     "output_type": "stream",
     "text": [
      "[3, 4, 5, 6, 7, 8, 9, 10, 11, 12, 13, 14, 15, 1]\n"
     ]
    }
   ],
   "source": [
    "print(channels)"
   ]
  },
  {
   "cell_type": "code",
   "execution_count": 205,
   "metadata": {},
   "outputs": [
    {
     "ename": "TypeError",
     "evalue": "'list' object is not callable",
     "output_type": "error",
     "traceback": [
      "\u001b[1;31m---------------------------------------------------------------------------\u001b[0m",
      "\u001b[1;31mTypeError\u001b[0m                                 Traceback (most recent call last)",
      "\u001b[1;32m<ipython-input-205-98d9a2beba3f>\u001b[0m in \u001b[0;36m<module>\u001b[1;34m()\u001b[0m\n\u001b[0;32m      1\u001b[0m \u001b[0mFs\u001b[0m \u001b[1;33m=\u001b[0m \u001b[1;36m1000\u001b[0m\u001b[1;33m\u001b[0m\u001b[0m\n\u001b[1;32m----> 2\u001b[1;33m \u001b[0mWn\u001b[0m\u001b[1;33m=\u001b[0m\u001b[1;33m[\u001b[0m\u001b[0mFrequencyPoint\u001b[0m\u001b[1;33m(\u001b[0m\u001b[1;36m1\u001b[0m\u001b[1;33m)\u001b[0m\u001b[1;33m,\u001b[0m \u001b[0mFrequencyPoint\u001b[0m\u001b[1;33m(\u001b[0m\u001b[1;36m2\u001b[0m\u001b[1;33m)\u001b[0m\u001b[1;33m]\u001b[0m\u001b[1;33m/\u001b[0m\u001b[1;33m(\u001b[0m\u001b[0mFs\u001b[0m\u001b[1;33m/\u001b[0m\u001b[1;36m2\u001b[0m\u001b[1;33m)\u001b[0m\u001b[1;33m\u001b[0m\u001b[0m\n\u001b[0m",
      "\u001b[1;31mTypeError\u001b[0m: 'list' object is not callable"
     ]
    }
   ],
   "source": [
    "Fs = 1000\n",
    "Wn=[FrequencyPoint(1), FrequencyPoint(2)]/(Fs/2)"
   ]
  },
  {
   "cell_type": "code",
   "execution_count": null,
   "metadata": {},
   "outputs": [],
   "source": []
  }
 ],
 "metadata": {
  "kernelspec": {
   "display_name": "Python 3",
   "language": "python",
   "name": "python3"
  },
  "language_info": {
   "codemirror_mode": {
    "name": "ipython",
    "version": 3
   },
   "file_extension": ".py",
   "mimetype": "text/x-python",
   "name": "python",
   "nbconvert_exporter": "python",
   "pygments_lexer": "ipython3",
   "version": "3.6.5"
  }
 },
 "nbformat": 4,
 "nbformat_minor": 2
}
